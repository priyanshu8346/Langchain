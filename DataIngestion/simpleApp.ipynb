{
 "cells": [
  {
   "cell_type": "code",
   "execution_count": 2,
   "id": "e04efb9c",
   "metadata": {},
   "outputs": [],
   "source": [
    "import os\n",
    "from dotenv import load_dotenv\n",
    "load_dotenv()\n",
    "\n",
    "os.environ['OPENAI_API_KEY'] = os.getenv(\"OPENAI_API_KEY\")\n",
    "os.environ['LANGCHAIN_API_KEY'] = os.getenv(\"LANGCHAIN_API_KEY\")\n",
    "os.environ['LANGCHAIN_TRACING_V2'] = \"true\"\n",
    "os.environ['LANGCHAIN_PROJECT'] = os.getenv(\"LANGCHAIN_PROJECT\")"
   ]
  },
  {
   "cell_type": "code",
   "execution_count": 4,
   "id": "2527272f",
   "metadata": {},
   "outputs": [
    {
     "data": {
      "text/plain": [
       "[Document(metadata={'source': 'https://www.cricbuzz.com/live-cricket-scorecard/105762/eng-vs-ind-1st-test-india-tour-of-england-2025', 'title': 'Cricket scorecard - England vs India, 1st Test, India tour of England, 2025 | Cricbuzz.com', 'description': 'Catch live and fully detailed scorecard of England vs India, 1st Test, Jun 20, India tour of England, 2025 on Cricbuzz', 'language': 'en'}, page_content=\"\\n Cricket scorecard - England vs India, 1st Test, India tour of England, 2025 | Cricbuzz.com  ✖Live ScoresScheduleArchivesNewsAll Stories  Premium Editorials Latest NewsTopicsSpotlightOpinionsSpecialsStats & AnalysisInterviewsLive BlogsHarsha BhogleSeries  India tour of England, 2025 Major League Cricket 2025 Bangladesh tour of Sri Lanka, 2025 Australia tour of West Indies, 2025 ICC World Test Championship Final 2025 T20 Blast 2025 South Africa tour of Zimbabwe, 2025 West Indies tour of Ireland, 2025 India Women tour of England, 2025 Tamil Nadu Premier League 2025 All Series »Teams   Test Teams India Afghanistan Ireland Pakistan Australia Sri Lanka Bangladesh England West Indies South Africa Zimbabwe New Zealand   Associate Malaysia Nepal Germany Namibia Denmark Singapore Papua New Guinea Kuwait Vanuatu Jersey Oman Fiji   More... Videos  All Videos Categories Playlists   RankingsICC Rankings - MenICC Rankings - Women More World Test Championship World Cup Super League Photos Mobile AppsCareersContact Us  {{premiumScreenName}}     My Account Sign Out MATCHESIND vs ENG - Ings BreakMINY vs SFU - PreviewCSG vs TRICHY - LiveGC vs CG - BreakTSK vs WAF - WAF WonAllLive NowTodayINTERNATIONALIndia tour of EnglandIndia vs England\\xa0\\xa0LIVE1st TestICC Mens Americas T20WCFACayman Islands vs Bahamas11th MatchBermuda vs Canada12th MatchT20 LEAGUEMLC 2025Seattle Orcas vs Los Angeles Knight Riders12th MatchTexas Super Kings vs Washington Freedom13th Match MI New York vs San Francisco Unicorns14th Match TNPL 2025Siechem Madurai Panthers vs IDream Tiruppur Tamizhans20th MatchChepauk Super Gillies vs Trichy Grand Cholas\\xa0\\xa0LIVE21st MatchLyca Kovai Kings vs IDream Tiruppur Tamizhans22nd MatchMadhya Pradesh League, 2025Bundelkhand Bulls vs Chambal Ghariyals21st MatchRewa Jaguars vs Bhopal Leopards1st Semi Final (1vs4)Gwalior Cheetahs vs Chambal Ghariyals2nd Semi Final (2vs3)Bhopal Leopards vs TBCFinalDOMESTICCounty Division 1Sussex vs Durham\\xa0\\xa0LIVE36th MatchEssex vs Hampshire\\xa0\\xa0LIVE37th MatchSomerset vs Warwickshire\\xa0\\xa0LIVE38th MatchWorcestershire vs Surrey\\xa0\\xa0LIVE39th MatchNottinghamshire vs Yorkshire\\xa0\\xa0LIVE40th MatchCounty Division 2Middlesex vs Northamptonshire\\xa0\\xa0LIVE29th MatchGlamorgan vs Leicestershire\\xa0\\xa0LIVE30th MatchGloucestershire vs Derbyshire\\xa0\\xa0LIVE31st MatchKent vs Lancashire\\xa0\\xa0LIVE32nd MatchWOMENSouth Africa Women tour of West Indies, 2025South Africa Women vs West Indies Women2nd T20IWest Indies Women vs South Africa Women3rd T20I    England vs India, 1st Test - Live Cricket Score, Commentary    Series:  India tour of England, 2025 Venue: Headingley,\\xa0Leeds Date & Time: Jun 20-Jun 24,\\xa011:00 AM\\xa0LOCAL    Commentary Scorecard Squads Highlights  Full Commentary Live Blog Match Facts News Photos   Day 4: 3rd Session - England need 371 runs    England 2nd Innings 0-0   Batter  R B 4s 6s SR      Zak Crawley    batting  0 0 0 0 0.00        Ben Duckett    batting  0 0 0 0 0.00      Extras  0  \\xa0(b 0, lb 0, w 0, nb 0, p 0)   Total  0   \\xa0(0 wkts, 0 Ov)     Yet to Bat   Ollie Pope , Joe Root , Harry Brook , Ben Stokes (c) , Jamie Smith (wk) , Chris Woakes , Brydon Carse , Josh Tongue , Shoaib Bashir       Bowler O M R W NB WD ECO     Jasprit Bumrah   0 0 0 0 0 0 0.00          India 2nd Innings 364-10 (96 Ov)   Batter  R B 4s 6s SR      Yashasvi Jaiswal    c Jamie Smith b Brydon Carse  4 11 1 0 36.36        KL Rahul    b Brydon Carse  137 247 18 0 55.47        Sai Sudharsan    c Zak Crawley b Stokes  30 48 4 0 62.50        Shubman Gill (c)    b Brydon Carse  8 16 1 0 50.00        Rishabh Pant (wk)    c Zak Crawley b Shoaib Bashir  118 140 15 3 84.29        Karun Nair    c and b Chris Woakes  20 54 3 0 37.04        Ravindra Jadeja    not out  25 40 2 1 62.50        Shardul Thakur    c Root b Tongue  4 12 0 0 33.33        Mohammed Siraj    c Jamie Smith b Tongue  0 1 0 0 0.00        Jasprit Bumrah    b Tongue  0 2 0 0 0.00        Prasidh Krishna    c Tongue b Shoaib Bashir  0 11 0 0 0.00      Extras  18  \\xa0(b 5, lb 4, w 3, nb 6, p 0)   Total  364   \\xa0(10 wkts, 96 Ov)    Fall of Wickets16-1 (Yashasvi Jaiswal, 3.1), 82-2 (Sai Sudharsan, 20.5), 92-3 (Shubman Gill, 24.6), 287-4 (Rishabh Pant, 71.4), 333-5 (KL Rahul, 84.2), 335-6 (Karun Nair, 85.6), 349-7 (Shardul Thakur, 90.1), 349-8 (Mohammed Siraj, 90.2), 349-9 (Jasprit Bumrah, 90.4), 364-10 (Prasidh Krishna, 95.6)   Bowler O M R W NB WD ECO     Chris Woakes   19 4 45 1 1 0 2.40        Brydon Carse   19 2 80 3 2 1 4.20        Josh Tongue   18 2 72 3 1 2 4.00        Shoaib Bashir   22 1 90 2 0 0 4.10        Ben Stokes (c)   15 2 47 1 2 0 3.10        Joe Root   3 0 21 0 0 0 7.00          England 1st Innings 465-10 (100.4 Ov)   Batter  R B 4s 6s SR      Zak Crawley    c Karun Nair b Bumrah  4 6 1 0 66.67        Duckett    b Bumrah  62 94 9 0 65.96        Ollie Pope    c Pant b Prasidh  106 137 14 0 77.37        Root    c Karun Nair b Bumrah  28 58 2 0 48.28        Harry Brook    c Thakur b Prasidh  99 112 11 2 88.39        Stokes (c)    c Pant b Siraj  20 52 3 0 38.46        Jamie Smith (wk)    c Sai Sudharsan b Prasidh  40 52 5 1 76.92        Chris Woakes    b Bumrah  38 55 3 2 69.09        Brydon Carse    b Siraj  22 23 4 0 95.65        Tongue    b Bumrah  11 18 2 0 61.11        Shoaib Bashir    not out  1 4 0 0 25.00      Extras  34  \\xa0(b 8, lb 18, w 1, nb 7, p 0)   Total  465   \\xa0(10 wkts, 100.4 Ov)    Fall of Wickets4-1 (Zak Crawley, 0.6), 126-2 (Duckett, 28.3), 206-3 (Root, 46.3), 225-4 (Ollie Pope, 51.1), 276-5 (Stokes, 64.5), 349-6 (Jamie Smith, 79.3), 398-7 (Harry Brook, 87.3), 453-8 (Brydon Carse, 94.5), 460-9 (Chris Woakes, 98.5), 465-10 (Tongue, 100.4)   Bowler O M R W NB WD ECO     Bumrah   24.4 5 83 5 4 0 3.40        Siraj   27 0 122 2 1 0 4.50        Prasidh   20 0 128 3 0 1 6.40        Ravindra Jadeja   23 4 68 0 0 0 3.00        Thakur   6 0 38 0 2 0 6.30          India 1st Innings 471-10 (113 Ov)   Batter  R B 4s 6s SR      Yashasvi Jaiswal    b Stokes  101 159 16 1 63.52        Rahul    c Root b Brydon Carse  42 78 8 0 53.85        Sai Sudharsan    c Jamie Smith b Stokes  0 4 0 0 0.00        Shubman Gill (c)    c Tongue b Shoaib Bashir  147 227 19 1 64.76        Pant (wk)    lbw b Tongue  134 178 12 6 75.28        Karun Nair    c Ollie Pope b Stokes  0 4 0 0 0.00        Ravindra Jadeja    b Tongue  11 15 2 0 73.33        Thakur    c Jamie Smith b Stokes  1 8 0 0 12.50        Bumrah    c Harry Brook b Tongue  0 5 0 0 0.00        Siraj    not out  3 7 0 0 42.86        Prasidh    b Tongue  1 3 0 0 33.33      Extras  31  \\xa0(b 1, lb 14, w 2, nb 9, p 5)   Total  471   \\xa0(10 wkts, 113 Ov)    Fall of Wickets91-1 (Rahul, 24.5), 92-2 (Sai Sudharsan, 25.4), 221-3 (Yashasvi Jaiswal, 52.3), 430-4 (Shubman Gill, 101.5), 447-5 (Karun Nair, 104.6), 453-6 (Pant, 107.2), 454-7 (Thakur, 108.4), 458-8 (Bumrah, 110.3), 469-9 (Ravindra Jadeja, 112.1), 471-10 (Prasidh, 112.6)   Bowler O M R W NB WD ECO     Chris Woakes   24 4 103 0 4 0 4.30        Brydon Carse   22 5 96 1 3 1 4.40        Tongue   20 0 86 4 1 0 4.30        Stokes (c)   20 2 66 4 1 1 3.30        Shoaib Bashir   27 6 100 1 0 0 3.70        Match Info   Match  ENG vs IND, 1st Test, India tour of England, 2025    Date   -     Toss \\tEngland won the toss and opt to bowl    Time      Venue  Headingley, Leeds    Umpires  Chris Gaffaney, Paul Reiffel    Third Umpire  Sharfuddoula    Match Referee  Richie Richardson   England\\xa0Squad  Playing  Zak Crawley, Ben Duckett, Ollie Pope, Joe Root, Harry Brook, Ben Stokes (c), Jamie Smith (wk), Chris Woakes, Brydon Carse, Josh Tongue, Shoaib Bashir    Bench  Jamie Overton, Samuel James Cook, Jacob Bethell    Support Staff  Paul Collingwood, Jeetan Patel, Brendon McCullum, Marcus Trescothick, Neil Killeen, Tim Southee   India\\xa0Squad  Playing  Yashasvi Jaiswal, KL Rahul, Sai Sudharsan, Shubman Gill (c), Rishabh Pant (wk), Karun Nair, Ravindra Jadeja, Shardul Thakur, Jasprit Bumrah, Mohammed Siraj, Prasidh Krishna    Bench  Abhimanyu Easwaran, Washington Sundar, Arshdeep Singh, Dhruv Jurel, Nitish Kumar Reddy, Akash Deep, Harshit Rana, Kuldeep Yadav    Support Staff  Gautam Gambhir, Ryan ten Doeschate, T Dilip, Morne Morkel, Shitanshu Kotak      LATEST NEWS   Records tumble as Pant blitzes twin centuries at Headingley36m ago   Shikha Pandey, Shreyanka Patil set for WCPL return1h ago  India's lead swells past 300 after twin tons2h ago  Oman to disburse payment to its players following ICC clarifications 3h ago  Unbeaten SFU eye double over MI New York4h ago  Rahul, Pant keep India steady4h ago  More News    We use cookies to improve your experience on our site and to show you non-personalized ads. Find out more in our privacy policy and cookie policyOKMOBILE SITE & APPSm.cricbuzz.comAndroidiOSFOLLOW US ONfacebooktwitteryoutubePinterestCOMPANYCareersAdvertisePrivacy PolicyTerms of UseCricbuzz TV AdsPrivacy Preferences© 2025 Cricbuzz.com, Cricbuzz Platforms Limited. All rights reserved | The Times of India | Navbharat TimesMove to top \")]"
      ]
     },
     "execution_count": 4,
     "metadata": {},
     "output_type": "execute_result"
    }
   ],
   "source": [
    "# Data ingestion \n",
    "# internally WebBaseLoader use beautifulsoap4 to scrape the web page.\n",
    "from langchain_community.document_loaders import WebBaseLoader\n",
    "\n",
    "loader = WebBaseLoader(\"https://www.cricbuzz.com/live-cricket-scorecard/105762/eng-vs-ind-1st-test-india-tour-of-england-2025\")\n",
    "data = loader.load()\n",
    "data"
   ]
  },
  {
   "cell_type": "code",
   "execution_count": 6,
   "id": "338a30e0",
   "metadata": {},
   "outputs": [
    {
     "data": {
      "text/plain": [
       "[Document(metadata={'source': 'https://www.cricbuzz.com/live-cricket-scorecard/105762/eng-vs-ind-1st-test-india-tour-of-england-2025', 'title': 'Cricket scorecard - England vs India, 1st Test, India tour of England, 2025 | Cricbuzz.com', 'description': 'Catch live and fully detailed scorecard of England vs India, 1st Test, Jun 20, India tour of England, 2025 on Cricbuzz', 'language': 'en'}, page_content='Cricket scorecard - England vs India, 1st Test, India tour of England, 2025 | Cricbuzz.com  ✖Live ScoresScheduleArchivesNewsAll Stories  Premium Editorials Latest NewsTopicsSpotlightOpinionsSpecialsStats & AnalysisInterviewsLive BlogsHarsha BhogleSeries  India tour of England, 2025 Major League Cricket 2025 Bangladesh tour of Sri Lanka, 2025 Australia tour of West Indies, 2025 ICC World Test Championship Final 2025 T20 Blast 2025 South Africa tour of Zimbabwe, 2025 West Indies tour of Ireland, 2025 India Women tour of England, 2025 Tamil Nadu Premier League 2025 All Series »Teams   Test Teams India Afghanistan Ireland Pakistan Australia Sri Lanka Bangladesh England West Indies South Africa Zimbabwe New Zealand   Associate Malaysia Nepal Germany Namibia Denmark Singapore Papua New Guinea Kuwait Vanuatu Jersey Oman Fiji   More... Videos  All Videos Categories Playlists   RankingsICC Rankings - MenICC Rankings - Women More World Test Championship World Cup Super League Photos Mobile'),\n",
       " Document(metadata={'source': 'https://www.cricbuzz.com/live-cricket-scorecard/105762/eng-vs-ind-1st-test-india-tour-of-england-2025', 'title': 'Cricket scorecard - England vs India, 1st Test, India tour of England, 2025 | Cricbuzz.com', 'description': 'Catch live and fully detailed scorecard of England vs India, 1st Test, Jun 20, India tour of England, 2025 on Cricbuzz', 'language': 'en'}, page_content='Kuwait Vanuatu Jersey Oman Fiji   More... Videos  All Videos Categories Playlists   RankingsICC Rankings - MenICC Rankings - Women More World Test Championship World Cup Super League Photos Mobile AppsCareersContact Us  {{premiumScreenName}}     My Account Sign Out MATCHESIND vs ENG - Ings BreakMINY vs SFU - PreviewCSG vs TRICHY - LiveGC vs CG - BreakTSK vs WAF - WAF WonAllLive NowTodayINTERNATIONALIndia tour of EnglandIndia vs England\\xa0\\xa0LIVE1st TestICC Mens Americas T20WCFACayman Islands vs Bahamas11th MatchBermuda vs Canada12th MatchT20 LEAGUEMLC 2025Seattle Orcas vs Los Angeles Knight Riders12th MatchTexas Super Kings vs Washington Freedom13th Match MI New York vs San Francisco Unicorns14th Match TNPL 2025Siechem Madurai Panthers vs IDream Tiruppur Tamizhans20th MatchChepauk Super Gillies vs Trichy Grand Cholas\\xa0\\xa0LIVE21st MatchLyca Kovai Kings vs IDream Tiruppur Tamizhans22nd MatchMadhya Pradesh League, 2025Bundelkhand Bulls vs Chambal Ghariyals21st MatchRewa Jaguars vs Bhopal'),\n",
       " Document(metadata={'source': 'https://www.cricbuzz.com/live-cricket-scorecard/105762/eng-vs-ind-1st-test-india-tour-of-england-2025', 'title': 'Cricket scorecard - England vs India, 1st Test, India tour of England, 2025 | Cricbuzz.com', 'description': 'Catch live and fully detailed scorecard of England vs India, 1st Test, Jun 20, India tour of England, 2025 on Cricbuzz', 'language': 'en'}, page_content='Gillies vs Trichy Grand Cholas\\xa0\\xa0LIVE21st MatchLyca Kovai Kings vs IDream Tiruppur Tamizhans22nd MatchMadhya Pradesh League, 2025Bundelkhand Bulls vs Chambal Ghariyals21st MatchRewa Jaguars vs Bhopal Leopards1st Semi Final (1vs4)Gwalior Cheetahs vs Chambal Ghariyals2nd Semi Final (2vs3)Bhopal Leopards vs TBCFinalDOMESTICCounty Division 1Sussex vs Durham\\xa0\\xa0LIVE36th MatchEssex vs Hampshire\\xa0\\xa0LIVE37th MatchSomerset vs Warwickshire\\xa0\\xa0LIVE38th MatchWorcestershire vs Surrey\\xa0\\xa0LIVE39th MatchNottinghamshire vs Yorkshire\\xa0\\xa0LIVE40th MatchCounty Division 2Middlesex vs Northamptonshire\\xa0\\xa0LIVE29th MatchGlamorgan vs Leicestershire\\xa0\\xa0LIVE30th MatchGloucestershire vs Derbyshire\\xa0\\xa0LIVE31st MatchKent vs Lancashire\\xa0\\xa0LIVE32nd MatchWOMENSouth Africa Women tour of West Indies, 2025South Africa Women vs West Indies Women2nd T20IWest Indies Women vs South Africa Women3rd T20I    England vs India, 1st Test - Live Cricket Score, Commentary    Series:  India tour of England, 2025 Venue: Headingley,\\xa0Leeds Date & Time:'),\n",
       " Document(metadata={'source': 'https://www.cricbuzz.com/live-cricket-scorecard/105762/eng-vs-ind-1st-test-india-tour-of-england-2025', 'title': 'Cricket scorecard - England vs India, 1st Test, India tour of England, 2025 | Cricbuzz.com', 'description': 'Catch live and fully detailed scorecard of England vs India, 1st Test, Jun 20, India tour of England, 2025 on Cricbuzz', 'language': 'en'}, page_content='T20IWest Indies Women vs South Africa Women3rd T20I    England vs India, 1st Test - Live Cricket Score, Commentary    Series:  India tour of England, 2025 Venue: Headingley,\\xa0Leeds Date & Time: Jun 20-Jun 24,\\xa011:00 AM\\xa0LOCAL    Commentary Scorecard Squads Highlights  Full Commentary Live Blog Match Facts News Photos   Day 4: 3rd Session - England need 371 runs    England 2nd Innings 0-0   Batter  R B 4s 6s SR      Zak Crawley    batting  0 0 0 0 0.00        Ben Duckett    batting  0 0 0 0 0.00      Extras  0  \\xa0(b 0, lb 0, w 0, nb 0, p 0)   Total  0   \\xa0(0 wkts, 0 Ov)     Yet to Bat   Ollie Pope , Joe Root , Harry Brook , Ben Stokes (c) , Jamie Smith (wk) , Chris Woakes , Brydon Carse , Josh Tongue , Shoaib Bashir       Bowler O M R W NB WD ECO     Jasprit Bumrah   0 0 0 0 0 0 0.00          India 2nd Innings 364-10 (96 Ov)   Batter  R B 4s 6s SR      Yashasvi Jaiswal    c Jamie Smith b Brydon Carse  4 11 1 0 36.36        KL Rahul    b Brydon Carse  137 247 18 0 55.47        Sai Sudharsan'),\n",
       " Document(metadata={'source': 'https://www.cricbuzz.com/live-cricket-scorecard/105762/eng-vs-ind-1st-test-india-tour-of-england-2025', 'title': 'Cricket scorecard - England vs India, 1st Test, India tour of England, 2025 | Cricbuzz.com', 'description': 'Catch live and fully detailed scorecard of England vs India, 1st Test, Jun 20, India tour of England, 2025 on Cricbuzz', 'language': 'en'}, page_content='2nd Innings 364-10 (96 Ov)   Batter  R B 4s 6s SR      Yashasvi Jaiswal    c Jamie Smith b Brydon Carse  4 11 1 0 36.36        KL Rahul    b Brydon Carse  137 247 18 0 55.47        Sai Sudharsan    c Zak Crawley b Stokes  30 48 4 0 62.50        Shubman Gill (c)    b Brydon Carse  8 16 1 0 50.00        Rishabh Pant (wk)    c Zak Crawley b Shoaib Bashir  118 140 15 3 84.29        Karun Nair    c and b Chris Woakes  20 54 3 0 37.04        Ravindra Jadeja    not out  25 40 2 1 62.50        Shardul Thakur    c Root b Tongue  4 12 0 0 33.33        Mohammed Siraj    c Jamie Smith b Tongue  0 1 0 0 0.00        Jasprit Bumrah    b Tongue  0 2 0 0 0.00        Prasidh Krishna    c Tongue b Shoaib Bashir  0 11 0 0 0.00      Extras  18  \\xa0(b 5, lb 4, w 3, nb 6, p 0)   Total  364   \\xa0(10 wkts, 96 Ov)    Fall of Wickets16-1 (Yashasvi Jaiswal, 3.1), 82-2 (Sai Sudharsan, 20.5), 92-3 (Shubman Gill, 24.6), 287-4 (Rishabh Pant, 71.4), 333-5 (KL Rahul, 84.2), 335-6 (Karun Nair, 85.6), 349-7 (Shardul Thakur,'),\n",
       " Document(metadata={'source': 'https://www.cricbuzz.com/live-cricket-scorecard/105762/eng-vs-ind-1st-test-india-tour-of-england-2025', 'title': 'Cricket scorecard - England vs India, 1st Test, India tour of England, 2025 | Cricbuzz.com', 'description': 'Catch live and fully detailed scorecard of England vs India, 1st Test, Jun 20, India tour of England, 2025 on Cricbuzz', 'language': 'en'}, page_content='of Wickets16-1 (Yashasvi Jaiswal, 3.1), 82-2 (Sai Sudharsan, 20.5), 92-3 (Shubman Gill, 24.6), 287-4 (Rishabh Pant, 71.4), 333-5 (KL Rahul, 84.2), 335-6 (Karun Nair, 85.6), 349-7 (Shardul Thakur, 90.1), 349-8 (Mohammed Siraj, 90.2), 349-9 (Jasprit Bumrah, 90.4), 364-10 (Prasidh Krishna, 95.6)   Bowler O M R W NB WD ECO     Chris Woakes   19 4 45 1 1 0 2.40        Brydon Carse   19 2 80 3 2 1 4.20        Josh Tongue   18 2 72 3 1 2 4.00        Shoaib Bashir   22 1 90 2 0 0 4.10        Ben Stokes (c)   15 2 47 1 2 0 3.10        Joe Root   3 0 21 0 0 0 7.00          England 1st Innings 465-10 (100.4 Ov)   Batter  R B 4s 6s SR      Zak Crawley    c Karun Nair b Bumrah  4 6 1 0 66.67        Duckett    b Bumrah  62 94 9 0 65.96        Ollie Pope    c Pant b Prasidh  106 137 14 0 77.37        Root    c Karun Nair b Bumrah  28 58 2 0 48.28        Harry Brook    c Thakur b Prasidh  99 112 11 2 88.39        Stokes (c)    c Pant b Siraj  20 52 3 0 38.46        Jamie Smith (wk)    c Sai Sudharsan'),\n",
       " Document(metadata={'source': 'https://www.cricbuzz.com/live-cricket-scorecard/105762/eng-vs-ind-1st-test-india-tour-of-england-2025', 'title': 'Cricket scorecard - England vs India, 1st Test, India tour of England, 2025 | Cricbuzz.com', 'description': 'Catch live and fully detailed scorecard of England vs India, 1st Test, Jun 20, India tour of England, 2025 on Cricbuzz', 'language': 'en'}, page_content='c Karun Nair b Bumrah  28 58 2 0 48.28        Harry Brook    c Thakur b Prasidh  99 112 11 2 88.39        Stokes (c)    c Pant b Siraj  20 52 3 0 38.46        Jamie Smith (wk)    c Sai Sudharsan b Prasidh  40 52 5 1 76.92        Chris Woakes    b Bumrah  38 55 3 2 69.09        Brydon Carse    b Siraj  22 23 4 0 95.65        Tongue    b Bumrah  11 18 2 0 61.11        Shoaib Bashir    not out  1 4 0 0 25.00      Extras  34  \\xa0(b 8, lb 18, w 1, nb 7, p 0)   Total  465   \\xa0(10 wkts, 100.4 Ov)    Fall of Wickets4-1 (Zak Crawley, 0.6), 126-2 (Duckett, 28.3), 206-3 (Root, 46.3), 225-4 (Ollie Pope, 51.1), 276-5 (Stokes, 64.5), 349-6 (Jamie Smith, 79.3), 398-7 (Harry Brook, 87.3), 453-8 (Brydon Carse, 94.5), 460-9 (Chris Woakes, 98.5), 465-10 (Tongue, 100.4)   Bowler O M R W NB WD ECO     Bumrah   24.4 5 83 5 4 0 3.40        Siraj   27 0 122 2 1 0 4.50        Prasidh   20 0 128 3 0 1 6.40        Ravindra Jadeja   23 4 68 0 0 0 3.00        Thakur   6 0 38 0 2 0 6.30          India 1st Innings'),\n",
       " Document(metadata={'source': 'https://www.cricbuzz.com/live-cricket-scorecard/105762/eng-vs-ind-1st-test-india-tour-of-england-2025', 'title': 'Cricket scorecard - England vs India, 1st Test, India tour of England, 2025 | Cricbuzz.com', 'description': 'Catch live and fully detailed scorecard of England vs India, 1st Test, Jun 20, India tour of England, 2025 on Cricbuzz', 'language': 'en'}, page_content='24.4 5 83 5 4 0 3.40        Siraj   27 0 122 2 1 0 4.50        Prasidh   20 0 128 3 0 1 6.40        Ravindra Jadeja   23 4 68 0 0 0 3.00        Thakur   6 0 38 0 2 0 6.30          India 1st Innings 471-10 (113 Ov)   Batter  R B 4s 6s SR      Yashasvi Jaiswal    b Stokes  101 159 16 1 63.52        Rahul    c Root b Brydon Carse  42 78 8 0 53.85        Sai Sudharsan    c Jamie Smith b Stokes  0 4 0 0 0.00        Shubman Gill (c)    c Tongue b Shoaib Bashir  147 227 19 1 64.76        Pant (wk)    lbw b Tongue  134 178 12 6 75.28        Karun Nair    c Ollie Pope b Stokes  0 4 0 0 0.00        Ravindra Jadeja    b Tongue  11 15 2 0 73.33        Thakur    c Jamie Smith b Stokes  1 8 0 0 12.50        Bumrah    c Harry Brook b Tongue  0 5 0 0 0.00        Siraj    not out  3 7 0 0 42.86        Prasidh    b Tongue  1 3 0 0 33.33      Extras  31  \\xa0(b 1, lb 14, w 2, nb 9, p 5)   Total  471   \\xa0(10 wkts, 113 Ov)    Fall of Wickets91-1 (Rahul, 24.5), 92-2 (Sai Sudharsan, 25.4), 221-3 (Yashasvi'),\n",
       " Document(metadata={'source': 'https://www.cricbuzz.com/live-cricket-scorecard/105762/eng-vs-ind-1st-test-india-tour-of-england-2025', 'title': 'Cricket scorecard - England vs India, 1st Test, India tour of England, 2025 | Cricbuzz.com', 'description': 'Catch live and fully detailed scorecard of England vs India, 1st Test, Jun 20, India tour of England, 2025 on Cricbuzz', 'language': 'en'}, page_content='Prasidh    b Tongue  1 3 0 0 33.33      Extras  31  \\xa0(b 1, lb 14, w 2, nb 9, p 5)   Total  471   \\xa0(10 wkts, 113 Ov)    Fall of Wickets91-1 (Rahul, 24.5), 92-2 (Sai Sudharsan, 25.4), 221-3 (Yashasvi Jaiswal, 52.3), 430-4 (Shubman Gill, 101.5), 447-5 (Karun Nair, 104.6), 453-6 (Pant, 107.2), 454-7 (Thakur, 108.4), 458-8 (Bumrah, 110.3), 469-9 (Ravindra Jadeja, 112.1), 471-10 (Prasidh, 112.6)   Bowler O M R W NB WD ECO     Chris Woakes   24 4 103 0 4 0 4.30        Brydon Carse   22 5 96 1 3 1 4.40        Tongue   20 0 86 4 1 0 4.30        Stokes (c)   20 2 66 4 1 1 3.30        Shoaib Bashir   27 6 100 1 0 0 3.70        Match Info   Match  ENG vs IND, 1st Test, India tour of England, 2025    Date   -     Toss \\tEngland won the toss and opt to bowl    Time      Venue  Headingley, Leeds    Umpires  Chris Gaffaney, Paul Reiffel    Third Umpire  Sharfuddoula    Match Referee  Richie Richardson   England\\xa0Squad  Playing  Zak Crawley, Ben Duckett, Ollie Pope, Joe Root, Harry Brook, Ben Stokes'),\n",
       " Document(metadata={'source': 'https://www.cricbuzz.com/live-cricket-scorecard/105762/eng-vs-ind-1st-test-india-tour-of-england-2025', 'title': 'Cricket scorecard - England vs India, 1st Test, India tour of England, 2025 | Cricbuzz.com', 'description': 'Catch live and fully detailed scorecard of England vs India, 1st Test, Jun 20, India tour of England, 2025 on Cricbuzz', 'language': 'en'}, page_content='Chris Gaffaney, Paul Reiffel    Third Umpire  Sharfuddoula    Match Referee  Richie Richardson   England\\xa0Squad  Playing  Zak Crawley, Ben Duckett, Ollie Pope, Joe Root, Harry Brook, Ben Stokes (c), Jamie Smith (wk), Chris Woakes, Brydon Carse, Josh Tongue, Shoaib Bashir    Bench  Jamie Overton, Samuel James Cook, Jacob Bethell    Support Staff  Paul Collingwood, Jeetan Patel, Brendon McCullum, Marcus Trescothick, Neil Killeen, Tim Southee   India\\xa0Squad  Playing  Yashasvi Jaiswal, KL Rahul, Sai Sudharsan, Shubman Gill (c), Rishabh Pant (wk), Karun Nair, Ravindra Jadeja, Shardul Thakur, Jasprit Bumrah, Mohammed Siraj, Prasidh Krishna    Bench  Abhimanyu Easwaran, Washington Sundar, Arshdeep Singh, Dhruv Jurel, Nitish Kumar Reddy, Akash Deep, Harshit Rana, Kuldeep Yadav    Support Staff  Gautam Gambhir, Ryan ten Doeschate, T Dilip, Morne Morkel, Shitanshu Kotak      LATEST NEWS   Records tumble as Pant blitzes twin centuries at Headingley36m ago   Shikha Pandey, Shreyanka Patil set for'),\n",
       " Document(metadata={'source': 'https://www.cricbuzz.com/live-cricket-scorecard/105762/eng-vs-ind-1st-test-india-tour-of-england-2025', 'title': 'Cricket scorecard - England vs India, 1st Test, India tour of England, 2025 | Cricbuzz.com', 'description': 'Catch live and fully detailed scorecard of England vs India, 1st Test, Jun 20, India tour of England, 2025 on Cricbuzz', 'language': 'en'}, page_content=\"Gambhir, Ryan ten Doeschate, T Dilip, Morne Morkel, Shitanshu Kotak      LATEST NEWS   Records tumble as Pant blitzes twin centuries at Headingley36m ago   Shikha Pandey, Shreyanka Patil set for WCPL return1h ago  India's lead swells past 300 after twin tons2h ago  Oman to disburse payment to its players following ICC clarifications 3h ago  Unbeaten SFU eye double over MI New York4h ago  Rahul, Pant keep India steady4h ago  More News    We use cookies to improve your experience on our site and to show you non-personalized ads. Find out more in our privacy policy and cookie policyOKMOBILE SITE & APPSm.cricbuzz.comAndroidiOSFOLLOW US ONfacebooktwitteryoutubePinterestCOMPANYCareersAdvertisePrivacy PolicyTerms of UseCricbuzz TV AdsPrivacy Preferences© 2025 Cricbuzz.com, Cricbuzz Platforms Limited. All rights reserved | The Times of India | Navbharat TimesMove to top\")]"
      ]
     },
     "execution_count": 6,
     "metadata": {},
     "output_type": "execute_result"
    }
   ],
   "source": [
    "# divide the document into chunks \n",
    "\n",
    "from langchain.text_splitter import RecursiveCharacterTextSplitter\n",
    "text_splitter = RecursiveCharacterTextSplitter(chunk_size=1000, chunk_overlap=200)\n",
    "documents = text_splitter.split_documents(data)\n",
    "documents"
   ]
  },
  {
   "cell_type": "code",
   "execution_count": 9,
   "id": "a3aa275f",
   "metadata": {},
   "outputs": [],
   "source": [
    "# embedding the documents \n",
    "\n",
    "from langchain_openai import OpenAIEmbeddings\n",
    "embeddings= OpenAIEmbeddings()\n"
   ]
  },
  {
   "cell_type": "code",
   "execution_count": 10,
   "id": "dd94d936",
   "metadata": {},
   "outputs": [],
   "source": [
    "# vectorstores \n",
    "from langchain.vectorstores import FAISS\n",
    "vectorstoreDB = FAISS.from_documents(documents, embeddings)"
   ]
  },
  {
   "cell_type": "code",
   "execution_count": 23,
   "id": "833be110",
   "metadata": {},
   "outputs": [
    {
     "data": {
      "text/plain": [
       "'Cricket scorecard - England vs India, 1st Test, India tour of England, 2025 | Cricbuzz.com  ✖Live ScoresScheduleArchivesNewsAll Stories  Premium Editorials Latest NewsTopicsSpotlightOpinionsSpecialsStats & AnalysisInterviewsLive BlogsHarsha BhogleSeries  India tour of England, 2025 Major League Cricket 2025 Bangladesh tour of Sri Lanka, 2025 Australia tour of West Indies, 2025 ICC World Test Championship Final 2025 T20 Blast 2025 South Africa tour of Zimbabwe, 2025 West Indies tour of Ireland, 2025 India Women tour of England, 2025 Tamil Nadu Premier League 2025 All Series »Teams   Test Teams India Afghanistan Ireland Pakistan Australia Sri Lanka Bangladesh England West Indies South Africa Zimbabwe New Zealand   Associate Malaysia Nepal Germany Namibia Denmark Singapore Papua New Guinea Kuwait Vanuatu Jersey Oman Fiji   More... Videos  All Videos Categories Playlists   RankingsICC Rankings - MenICC Rankings - Women More World Test Championship World Cup Super League Photos Mobile'"
      ]
     },
     "execution_count": 23,
     "metadata": {},
     "output_type": "execute_result"
    }
   ],
   "source": [
    "# Query from a vector store db \n",
    "\n",
    "query = \"What is the score of the match between india and england?\"\n",
    "# similarity search\n",
    "results = vectorstoreDB.similarity_search(query)\n",
    "results[0].page_content\n"
   ]
  },
  {
   "cell_type": "code",
   "execution_count": 13,
   "id": "6047bd95",
   "metadata": {},
   "outputs": [],
   "source": [
    "from langchain_openai import ChatOpenAI\n",
    "llm = ChatOpenAI(model=\"gpt-4o\")"
   ]
  },
  {
   "cell_type": "code",
   "execution_count": 14,
   "id": "078af72b",
   "metadata": {},
   "outputs": [
    {
     "data": {
      "text/plain": [
       "RunnableBinding(bound=RunnableBinding(bound=RunnableAssign(mapper={\n",
       "  context: RunnableLambda(format_docs)\n",
       "}), kwargs={}, config={'run_name': 'format_inputs'}, config_factories=[])\n",
       "| ChatPromptTemplate(input_variables=['context'], input_types={}, partial_variables={}, messages=[HumanMessagePromptTemplate(prompt=PromptTemplate(input_variables=['context'], input_types={}, partial_variables={}, template='\\n    Answer the following question based on the context below.\\n    <context>\\n    {context}\\n    </context>\\n    '), additional_kwargs={})])\n",
       "| ChatOpenAI(client=<openai.resources.chat.completions.completions.Completions object at 0x000002ECFDC7FDC0>, async_client=<openai.resources.chat.completions.completions.AsyncCompletions object at 0x000002ECFDEFF580>, root_client=<openai.OpenAI object at 0x000002ECFDC7F820>, root_async_client=<openai.AsyncOpenAI object at 0x000002ECFDEFF280>, model_name='gpt-4o', model_kwargs={}, openai_api_key=SecretStr('**********'))\n",
       "| StrOutputParser(), kwargs={}, config={'run_name': 'stuff_documents_chain'}, config_factories=[])"
      ]
     },
     "execution_count": 14,
     "metadata": {},
     "output_type": "execute_result"
    }
   ],
   "source": [
    "# retrieval chain and document chain \n",
    "from langchain.chains.combine_documents import create_stuff_documents_chain\n",
    "from langchain_core.prompts import ChatPromptTemplate\n",
    "\n",
    "prompt = ChatPromptTemplate([\n",
    "    \"\"\"\n",
    "    Answer the following question based on the context below.\n",
    "    <context>\n",
    "    {context}\n",
    "    </context>\n",
    "    \"\"\"\n",
    "])\n",
    "\n",
    "document_chain = create_stuff_documents_chain(llm, prompt) \n",
    "document_chain"
   ]
  },
  {
   "cell_type": "code",
   "execution_count": 27,
   "id": "235b9e5d",
   "metadata": {},
   "outputs": [
    {
     "data": {
      "text/plain": [
       "'Sure, what would you like to know about the England vs India 1st Test match from the India tour of England in 2025?'"
      ]
     },
     "execution_count": 27,
     "metadata": {},
     "output_type": "execute_result"
    }
   ],
   "source": [
    "query = \"What is the score of the match between india and england?\"\n",
    "from langchain_core.documents import Document\n",
    "\n",
    "result = document_chain.invoke({\n",
    "                       \"input\": query,\n",
    "                          \"context\": [Document(page_content =  \"England vs India, 1st Test, India tour of England, 2025 | Cricbuzz.com\"  )]\n",
    "                       })\n",
    "\n",
    "result"
   ]
  },
  {
   "cell_type": "code",
   "execution_count": null,
   "id": "a5646a4c",
   "metadata": {},
   "outputs": [],
   "source": [
    "# retriever \n"
   ]
  },
  {
   "cell_type": "code",
   "execution_count": null,
   "id": "dde71bc0",
   "metadata": {},
   "outputs": [],
   "source": []
  },
  {
   "cell_type": "code",
   "execution_count": null,
   "id": "8c3c70e4",
   "metadata": {},
   "outputs": [],
   "source": []
  },
  {
   "cell_type": "code",
   "execution_count": null,
   "id": "907182e5",
   "metadata": {},
   "outputs": [],
   "source": []
  },
  {
   "cell_type": "code",
   "execution_count": null,
   "id": "25d6e41a",
   "metadata": {},
   "outputs": [],
   "source": []
  }
 ],
 "metadata": {
  "kernelspec": {
   "display_name": "Python 3",
   "language": "python",
   "name": "python3"
  },
  "language_info": {
   "codemirror_mode": {
    "name": "ipython",
    "version": 3
   },
   "file_extension": ".py",
   "mimetype": "text/x-python",
   "name": "python",
   "nbconvert_exporter": "python",
   "pygments_lexer": "ipython3",
   "version": "3.10.17"
  }
 },
 "nbformat": 4,
 "nbformat_minor": 5
}
